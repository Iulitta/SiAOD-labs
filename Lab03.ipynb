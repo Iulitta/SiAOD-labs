{
 "cells": [
  {
   "cell_type": "markdown",
   "metadata": {},
   "source": [
    "# Лабораторная работа 3. Методы поиска подстрокив строке.\n",
    "    Выполнила: Катанаева Иулитта\n",
    "    Группа: БВТ1903"
   ]
  },
  {
   "cell_type": "markdown",
   "metadata": {},
   "source": [
    "### Задание 1.\n",
    "Реализовать методы поиска подстроки в строке. Добавить возможность ввода строки и подстроки с клавиатуры. Предусмотреть возможность существования пробела. Реализовать возможность выбора опции чувствительности или нечувствительности к регистру. Оценить время работы каждого алгоритма поиска и сравнить его со временем работы стандартной функции поиска, используемой в выбранном языке программирования.\n",
    "#### Алгоритмы:\n",
    "- Кнута-Морриса-Пратта\n",
    "- Упрощенный Бойеса-Мура"
   ]
  },
  {
   "cell_type": "markdown",
   "metadata": {},
   "source": [
    "#### Алгоритм Кнута-Морриса-Пратта"
   ]
  },
  {
   "cell_type": "code",
   "execution_count": 1,
   "metadata": {},
   "outputs": [],
   "source": [
    "# Импортирование библиотек\n",
    "from IPython.display import HTML, display\n",
    "import ipywidgets as widgets\n",
    "from tabulate import tabulate\n",
    "import time"
   ]
  },
  {
   "cell_type": "code",
   "execution_count": 2,
   "metadata": {},
   "outputs": [],
   "source": [
    "def prefix(s):\n",
    "    p = [0] * len(s)\n",
    "    for i in range(1, len(s)):\n",
    "        k = p[i - 1]\n",
    "        while k > 0 and s[k] != s[i]:\n",
    "            k = p[k - 1]\n",
    "        if s[k] == s[i]:\n",
    "            k += 1\n",
    "        p[i] = k\n",
    "    return p"
   ]
  },
  {
   "cell_type": "code",
   "execution_count": 3,
   "metadata": {},
   "outputs": [],
   "source": [
    "# КМП-алгоритм. s: Строка, по которой будет произведен поиск. w: Строка, которую будем искать\n",
    "def KMP(s, w):\n",
    "    A = []\n",
    "    k = 0  \n",
    "    p = prefix(s)\n",
    "    for i in range(len(s)):\n",
    "        while k > 0 and s[i] != w[k]:\n",
    "            k = p[k-1]\n",
    "        if s[i] == w[k]:\n",
    "            k += 1\n",
    "        if k == len(w):\n",
    "            A.append((i - len(w) + 1, i+1))\n",
    "            k = p[k-1]\n",
    "    return A"
   ]
  },
  {
   "cell_type": "markdown",
   "metadata": {},
   "source": [
    "#### Упрощенный алгоритм Бойера-Мура"
   ]
  },
  {
   "cell_type": "code",
   "execution_count": 4,
   "metadata": {},
   "outputs": [],
   "source": [
    "# Строит таблицу смещений\n",
    "def preprocess(w):\n",
    "    T = [len(w)] * 256\n",
    "    for i in range(len(w) - 1):\n",
    "        T[ord(w[i])] = len(w) - 1 - i\n",
    "    return T"
   ]
  },
  {
   "cell_type": "code",
   "execution_count": 5,
   "metadata": {},
   "outputs": [],
   "source": [
    "# Алгоритм Бойера-Мура\n",
    "def BM(s, w):\n",
    "    A = []\n",
    "    T = preprocess(w)\n",
    "    skip = 0\n",
    "    while len(s) - skip >= len(w):\n",
    "        if s[skip:skip + len(w)] == w:\n",
    "            A.append((skip, skip + len(w)))\n",
    "        skip += T[ord(s[skip + len(w) - 1])]\n",
    "    return A"
   ]
  },
  {
   "cell_type": "markdown",
   "metadata": {},
   "source": [
    "#### Встроенный поиск"
   ]
  },
  {
   "cell_type": "code",
   "execution_count": 6,
   "metadata": {},
   "outputs": [],
   "source": [
    "def builtin_search(s, w):\n",
    "    A = []\n",
    "    index = s.find(w)\n",
    "    while index != -1:\n",
    "        A.append((index, index + len(w)))\n",
    "        index = s.find(w, index + 1)\n",
    "    return A"
   ]
  },
  {
   "cell_type": "markdown",
   "metadata": {},
   "source": [
    "#### Предусмотреть возможность существования пробела. Реализовать возможность выбора опции чувствительности или нечувствительности к регистру."
   ]
  },
  {
   "cell_type": "code",
   "execution_count": 7,
   "metadata": {},
   "outputs": [],
   "source": [
    "# Поиск подстроки с возможностью игнорирования пробелов и регистра\n",
    "def search(s, w, fn=KMP, ignore_case=True, ignore_space=False):\n",
    "    _s = s\n",
    "    _w = w\n",
    "    if ignore_case:\n",
    "        _s = _s.lower()\n",
    "        _w = _w.lower()\n",
    "    \n",
    "    if ignore_space:\n",
    "        _s = _s.replace(' ', '')\n",
    "        _w = _w.replace(' ', '')\n",
    "\n",
    "    A = fn(_s, _w)\n",
    "\n",
    "    if ignore_space:\n",
    "        nonspace = 0\n",
    "        kmp_without_space = 0\n",
    "        index = 0\n",
    "        while kmp_without_space < len(A) and index < len(s):\n",
    "            if A[kmp_without_space][0] == nonspace:\n",
    "                index_with_space_offsets = index\n",
    "                chars_count = 0\n",
    "                while chars_count < len(_w) and index_with_space_offsets < len(s):\n",
    "                    if s[index_with_space_offsets] != ' ':\n",
    "                        chars_count += 1\n",
    "                    index_with_space_offsets += 1\n",
    "                A[kmp_without_space] = (index, index_with_space_offsets)\n",
    "                kmp_without_space += 1\n",
    "            if s[index] != ' ': nonspace += 1\n",
    "            index += 1\n",
    "    \n",
    "    return A"
   ]
  },
  {
   "cell_type": "markdown",
   "metadata": {},
   "source": [
    "#### Стилизация вывода"
   ]
  },
  {
   "cell_type": "code",
   "execution_count": 8,
   "metadata": {},
   "outputs": [],
   "source": [
    "def substr_display(s, w, **kwargs):\n",
    "    A = search(s, w, **kwargs)\n",
    "    print('Входная строка:', s)\n",
    "    print('Паттерн:', w)\n",
    "    print()\n",
    "    for i, j in A:\n",
    "        display(HTML(f'{s[:i]}<b style=\"color: red\">{s[i:j]}</b>{s[j:]}'))\n",
    "    print('\\n\\n')"
   ]
  },
  {
   "cell_type": "code",
   "execution_count": 9,
   "metadata": {},
   "outputs": [
    {
     "name": "stdout",
     "output_type": "stream",
     "text": [
      "АЛГОРИТМ - KMP\n",
      "\n",
      "Входная строка: ABCABCABCDABDABDABC\n",
      "Паттерн: ABC\n",
      "\n"
     ]
    },
    {
     "data": {
      "text/html": [
       "<b style=\"color: red\">ABC</b>ABCABCDABDABDABC"
      ],
      "text/plain": [
       "<IPython.core.display.HTML object>"
      ]
     },
     "metadata": {},
     "output_type": "display_data"
    },
    {
     "data": {
      "text/html": [
       "ABC<b style=\"color: red\">ABC</b>ABCDABDABDABC"
      ],
      "text/plain": [
       "<IPython.core.display.HTML object>"
      ]
     },
     "metadata": {},
     "output_type": "display_data"
    },
    {
     "data": {
      "text/html": [
       "ABCABC<b style=\"color: red\">ABC</b>DABDABDABC"
      ],
      "text/plain": [
       "<IPython.core.display.HTML object>"
      ]
     },
     "metadata": {},
     "output_type": "display_data"
    },
    {
     "data": {
      "text/html": [
       "ABCABCABCDABDABD<b style=\"color: red\">ABC</b>"
      ],
      "text/plain": [
       "<IPython.core.display.HTML object>"
      ]
     },
     "metadata": {},
     "output_type": "display_data"
    },
    {
     "name": "stdout",
     "output_type": "stream",
     "text": [
      "\n",
      "\n",
      "\n",
      "Входная строка: AbCABcABCDaBDAbDAbC\n",
      "Паттерн: Abc\n",
      "\n"
     ]
    },
    {
     "data": {
      "text/html": [
       "<b style=\"color: red\">AbC</b>ABcABCDaBDAbDAbC"
      ],
      "text/plain": [
       "<IPython.core.display.HTML object>"
      ]
     },
     "metadata": {},
     "output_type": "display_data"
    },
    {
     "data": {
      "text/html": [
       "AbC<b style=\"color: red\">ABc</b>ABCDaBDAbDAbC"
      ],
      "text/plain": [
       "<IPython.core.display.HTML object>"
      ]
     },
     "metadata": {},
     "output_type": "display_data"
    },
    {
     "data": {
      "text/html": [
       "AbCABc<b style=\"color: red\">ABC</b>DaBDAbDAbC"
      ],
      "text/plain": [
       "<IPython.core.display.HTML object>"
      ]
     },
     "metadata": {},
     "output_type": "display_data"
    },
    {
     "data": {
      "text/html": [
       "AbCABcABCDaBDAbD<b style=\"color: red\">AbC</b>"
      ],
      "text/plain": [
       "<IPython.core.display.HTML object>"
      ]
     },
     "metadata": {},
     "output_type": "display_data"
    },
    {
     "name": "stdout",
     "output_type": "stream",
     "text": [
      "\n",
      "\n",
      "\n",
      "Входная строка: A B C A B C AB CD AB DAB DA BC\n",
      "Паттерн: A b C\n",
      "\n"
     ]
    },
    {
     "data": {
      "text/html": [
       "<b style=\"color: red\">A B C</b> A B C AB CD AB DAB DA BC"
      ],
      "text/plain": [
       "<IPython.core.display.HTML object>"
      ]
     },
     "metadata": {},
     "output_type": "display_data"
    },
    {
     "data": {
      "text/html": [
       "A B C<b style=\"color: red\"> A B C</b> AB CD AB DAB DA BC"
      ],
      "text/plain": [
       "<IPython.core.display.HTML object>"
      ]
     },
     "metadata": {},
     "output_type": "display_data"
    },
    {
     "data": {
      "text/html": [
       "A B C A B C<b style=\"color: red\"> AB C</b>D AB DAB DA BC"
      ],
      "text/plain": [
       "<IPython.core.display.HTML object>"
      ]
     },
     "metadata": {},
     "output_type": "display_data"
    },
    {
     "data": {
      "text/html": [
       "A B C A B C AB CD AB DAB D<b style=\"color: red\">A BC</b>"
      ],
      "text/plain": [
       "<IPython.core.display.HTML object>"
      ]
     },
     "metadata": {},
     "output_type": "display_data"
    },
    {
     "name": "stdout",
     "output_type": "stream",
     "text": [
      "\n",
      "\n",
      "\n",
      "АЛГОРИТМ - BM\n",
      "\n",
      "Входная строка: ABCABCABCDABDABDABC\n",
      "Паттерн: ABC\n",
      "\n"
     ]
    },
    {
     "data": {
      "text/html": [
       "<b style=\"color: red\">ABC</b>ABCABCDABDABDABC"
      ],
      "text/plain": [
       "<IPython.core.display.HTML object>"
      ]
     },
     "metadata": {},
     "output_type": "display_data"
    },
    {
     "data": {
      "text/html": [
       "ABC<b style=\"color: red\">ABC</b>ABCDABDABDABC"
      ],
      "text/plain": [
       "<IPython.core.display.HTML object>"
      ]
     },
     "metadata": {},
     "output_type": "display_data"
    },
    {
     "data": {
      "text/html": [
       "ABCABC<b style=\"color: red\">ABC</b>DABDABDABC"
      ],
      "text/plain": [
       "<IPython.core.display.HTML object>"
      ]
     },
     "metadata": {},
     "output_type": "display_data"
    },
    {
     "data": {
      "text/html": [
       "ABCABCABCDABDABD<b style=\"color: red\">ABC</b>"
      ],
      "text/plain": [
       "<IPython.core.display.HTML object>"
      ]
     },
     "metadata": {},
     "output_type": "display_data"
    },
    {
     "name": "stdout",
     "output_type": "stream",
     "text": [
      "\n",
      "\n",
      "\n",
      "Входная строка: AbCABcABCDaBDAbDAbC\n",
      "Паттерн: Abc\n",
      "\n"
     ]
    },
    {
     "data": {
      "text/html": [
       "<b style=\"color: red\">AbC</b>ABcABCDaBDAbDAbC"
      ],
      "text/plain": [
       "<IPython.core.display.HTML object>"
      ]
     },
     "metadata": {},
     "output_type": "display_data"
    },
    {
     "data": {
      "text/html": [
       "AbC<b style=\"color: red\">ABc</b>ABCDaBDAbDAbC"
      ],
      "text/plain": [
       "<IPython.core.display.HTML object>"
      ]
     },
     "metadata": {},
     "output_type": "display_data"
    },
    {
     "data": {
      "text/html": [
       "AbCABc<b style=\"color: red\">ABC</b>DaBDAbDAbC"
      ],
      "text/plain": [
       "<IPython.core.display.HTML object>"
      ]
     },
     "metadata": {},
     "output_type": "display_data"
    },
    {
     "data": {
      "text/html": [
       "AbCABcABCDaBDAbD<b style=\"color: red\">AbC</b>"
      ],
      "text/plain": [
       "<IPython.core.display.HTML object>"
      ]
     },
     "metadata": {},
     "output_type": "display_data"
    },
    {
     "name": "stdout",
     "output_type": "stream",
     "text": [
      "\n",
      "\n",
      "\n",
      "Входная строка: A B C A B C AB CD AB DAB DA BC\n",
      "Паттерн: A b C\n",
      "\n"
     ]
    },
    {
     "data": {
      "text/html": [
       "<b style=\"color: red\">A B C</b> A B C AB CD AB DAB DA BC"
      ],
      "text/plain": [
       "<IPython.core.display.HTML object>"
      ]
     },
     "metadata": {},
     "output_type": "display_data"
    },
    {
     "data": {
      "text/html": [
       "A B C<b style=\"color: red\"> A B C</b> AB CD AB DAB DA BC"
      ],
      "text/plain": [
       "<IPython.core.display.HTML object>"
      ]
     },
     "metadata": {},
     "output_type": "display_data"
    },
    {
     "data": {
      "text/html": [
       "A B C A B C<b style=\"color: red\"> AB C</b>D AB DAB DA BC"
      ],
      "text/plain": [
       "<IPython.core.display.HTML object>"
      ]
     },
     "metadata": {},
     "output_type": "display_data"
    },
    {
     "data": {
      "text/html": [
       "A B C A B C AB CD AB DAB D<b style=\"color: red\">A BC</b>"
      ],
      "text/plain": [
       "<IPython.core.display.HTML object>"
      ]
     },
     "metadata": {},
     "output_type": "display_data"
    },
    {
     "name": "stdout",
     "output_type": "stream",
     "text": [
      "\n",
      "\n",
      "\n"
     ]
    }
   ],
   "source": [
    "for alg in (KMP, BM):\n",
    "    print(f'АЛГОРИТМ - {alg.__name__}\\n')\n",
    "    substr_display('ABCABCABCDABDABDABC', 'ABC', fn=alg)\n",
    "    substr_display('AbCABcABCDaBDAbDAbC', 'Abc', fn=alg, ignore_case=True)\n",
    "    substr_display('A B C A B C AB CD AB DAB DA BC', 'A b C', fn=alg, ignore_space=True)"
   ]
  },
  {
   "cell_type": "markdown",
   "metadata": {},
   "source": [
    "#### Сравнение алгоритмов"
   ]
  },
  {
   "cell_type": "code",
   "execution_count": 10,
   "metadata": {},
   "outputs": [
    {
     "data": {
      "text/html": [
       "<table>\n",
       "<thead>\n",
       "<tr><th style=\"text-align: right;\">  </th><th>Алгоритм      </th><th style=\"text-align: right;\">     Время</th></tr>\n",
       "</thead>\n",
       "<tbody>\n",
       "<tr><td style=\"text-align: right;\"> 0</td><td>builtin_search</td><td style=\"text-align: right;\">3.781e-05 </td></tr>\n",
       "<tr><td style=\"text-align: right;\"> 1</td><td>BM            </td><td style=\"text-align: right;\">0.00016097</td></tr>\n",
       "<tr><td style=\"text-align: right;\"> 2</td><td>KMP           </td><td style=\"text-align: right;\">0.00027328</td></tr>\n",
       "</tbody>\n",
       "</table>"
      ],
      "text/plain": [
       "'<table>\\n<thead>\\n<tr><th style=\"text-align: right;\">  </th><th>Алгоритм      </th><th style=\"text-align: right;\">     Время</th></tr>\\n</thead>\\n<tbody>\\n<tr><td style=\"text-align: right;\"> 0</td><td>builtin_search</td><td style=\"text-align: right;\">3.781e-05 </td></tr>\\n<tr><td style=\"text-align: right;\"> 1</td><td>BM            </td><td style=\"text-align: right;\">0.00016097</td></tr>\\n<tr><td style=\"text-align: right;\"> 2</td><td>KMP           </td><td style=\"text-align: right;\">0.00027328</td></tr>\\n</tbody>\\n</table>'"
      ]
     },
     "execution_count": 10,
     "metadata": {},
     "output_type": "execute_result"
    }
   ],
   "source": [
    "bench_count = 10\n",
    "\n",
    "time_consumed = {}\n",
    "for alg in (KMP, BM, builtin_search):\n",
    "    time_start = time.perf_counter()\n",
    "    for i in range(bench_count):\n",
    "        alg('ABCABCABCDABDABDABC', 'ABC')\n",
    "        alg('ADBCHDBDBAHBCBACBDBEHABBBVHABBBVHABDAVHHCBABCB', 'AB')\n",
    "    time_end = time.perf_counter()\n",
    "    time_consumed[alg.__name__] = (time_end - time_start) / bench_count\n",
    "\n",
    "sorted_time = sorted(time_consumed.items(), key=lambda kv: kv[1])\n",
    "tabulate(sorted_time, headers=['Алгоритм','Время'], tablefmt='html', showindex=\"always\")"
   ]
  },
  {
   "cell_type": "markdown",
   "metadata": {},
   "source": [
    "#### Добавить возможность ввода строки и подстроки с клавиатуры"
   ]
  },
  {
   "cell_type": "code",
   "execution_count": 11,
   "metadata": {},
   "outputs": [
    {
     "data": {
      "application/vnd.jupyter.widget-view+json": {
       "model_id": "8d887d9b84b94e63bb6c20c9b32de0f1",
       "version_major": 2,
       "version_minor": 0
      },
      "text/plain": [
       "VBox(children=(Text(value='', description='Строка', placeholder='Введите строку'), Text(value='', description=…"
      ]
     },
     "metadata": {},
     "output_type": "display_data"
    }
   ],
   "source": [
    "search_string = widgets.Text(\n",
    "    description='Строка',\n",
    "    placeholder='Введите строку'\n",
    ")\n",
    "search_pattern = widgets.Text(\n",
    "    description='Паттерн',\n",
    "    placeholder='Введите строку'\n",
    ")\n",
    "\n",
    "ignore_case = widgets.Checkbox(\n",
    "    value=False,\n",
    "    description='Игнорировать регистр'\n",
    ")\n",
    "\n",
    "ignore_space = widgets.Checkbox(\n",
    "    value=False,\n",
    "    description='Игнорировать пробел'\n",
    ")\n",
    "\n",
    "algs = {'KMP': KMP, 'BM': BM, 'Builtin': builtin_search}\n",
    "alg = widgets.Dropdown(\n",
    "    options=['KMP', 'BM', 'Builtin'],\n",
    "    value='KMP',\n",
    "    description='Алгоритм'\n",
    ")\n",
    "\n",
    "result = widgets.HTML()\n",
    "\n",
    "def update(c):\n",
    "    if search_string.value and search_pattern.value:\n",
    "        try:\n",
    "            s = search_string.value\n",
    "            A = search(s, search_pattern.value, algs[alg.value], ignore_case.value, ignore_space.value)\n",
    "            result.value = ''\n",
    "            for i, j in A:\n",
    "                result.value += f'<div>{s[:i]}<b style=\"color: red\">{s[i:j]}</b>{s[j:]}</div>'\n",
    "        except Exception as e:\n",
    "            result.value = str(e)\n",
    "\n",
    "search_string.observe(update)\n",
    "search_pattern.observe(update)\n",
    "ignore_case.observe(update)\n",
    "ignore_space.observe(update)\n",
    "alg.observe(update)\n",
    "\n",
    "update({})\n",
    "\n",
    "widgets.VBox([\n",
    "    search_string,\n",
    "    search_pattern,\n",
    "    alg,\n",
    "    ignore_case,\n",
    "    ignore_space,\n",
    "    result\n",
    "])"
   ]
  },
  {
   "cell_type": "markdown",
   "metadata": {},
   "source": [
    " "
   ]
  },
  {
   "cell_type": "markdown",
   "metadata": {},
   "source": [
    "### Задание 2.\n",
    "Игра в 15, пятнашки, такен — популярная головоломка, придуманная в 1878 году Но ем Чепм эном. Она предст авляет собой набор одинаковых квадратных костяшек с нанесёнными числами, заключённых в квадратную коробку. Длина стороны коробки в четыре раза больше длины стороны костяшек для набора из 15 элементов, соответственно в коробке остаётся незаполненным одно квадратное поле. Цель игры — перемещая костяшки по коробке, добиться упорядочивания их по номерам, желательно сделав как можно меньше перемещений."
   ]
  },
  {
   "cell_type": "markdown",
   "metadata": {},
   "source": [
    "#### Задача:\n",
    "Написать программу, определяющую, является ли данное расположение «решаемым», то есть можно ли из него за конечное число шагов перейти к правильному. Если это возможно, то необходимо найти хотя бы одно решение — последовательность движений, после которой числа будут расположены в правильном порядке."
   ]
  },
  {
   "cell_type": "markdown",
   "metadata": {},
   "source": [
    "#### Входные данные:\n",
    "Массив чисел, представляющий собой расстановку в порядке «слева направо, сверху вниз». Число 0 обозначает пустое поле. Например, массив [1, 2, 3, 4, 5, 6, 7, 8, 9, 10, 11, 12, 13, 14, 15, 0] представляет собой «решенную» позицию элементов."
   ]
  },
  {
   "cell_type": "markdown",
   "metadata": {},
   "source": [
    "#### Выходные данные:\n",
    "Если решения нет, то функция должна вернуть пустой массив []. Если решение есть, то необходимо представить решение — для каждого шага записывается номер передвигаемого на данном шаге элемента."
   ]
  },
  {
   "cell_type": "code",
   "execution_count": 1,
   "metadata": {},
   "outputs": [
    {
     "name": "stdout",
     "output_type": "stream",
     "text": [
      "  1  2  3  4\n",
      "  5  6  7  8\n",
      " 13  9 11 12\n",
      " 10 14 15  0\n",
      "\n",
      "[15, 14, 10, 13, 9, 10, 14, 15]\n"
     ]
    }
   ],
   "source": [
    "from queue import PriorityQueue\n",
    "\n",
    "N = 4\n",
    "\n",
    "# Функция, определяющая движение пятнашек\n",
    "def moves(position):\n",
    "    blank = position.index(0)\n",
    "    i, j = divmod(blank, N)\n",
    "    offsets = []\n",
    "    if i > 0: offsets.append(-N)     # движение вниз\n",
    "    if i < N - 1: offsets.append(N)  # движение вверх\n",
    "    if j > 0: offsets.append(-1)     # движение вправо\n",
    "    if j < N - 1: offsets.append(1)  # движение влево\n",
    "    for offset in offsets:\n",
    "        swap = blank + offset\n",
    "        yield tuple(position[swap] if x==blank else position[blank] if x==swap else position[x] for x in range(N*N))\n",
    "\n",
    "# Функция, определяющая есть ли у пятнашек конечное решение\n",
    "def parity(permutation):\n",
    "    seen, cycles = set(), 0\n",
    "    for i in permutation:\n",
    "        if i not in seen:\n",
    "            cycles += 1\n",
    "            while i not in seen:\n",
    "                seen.add(i)\n",
    "                i = permutation[i]\n",
    "    return (cycles + len(permutation)) % 2\n",
    "\n",
    "\n",
    "class Position:\n",
    "    # Функция, принимающая позицию и начальную дистанцию\n",
    "    def __init__(self, position, start_distance):\n",
    "        self.position = position\n",
    "        self.start_distance = start_distance\n",
    "\n",
    "    # Функция, срабатывающая при сравнении (<) объекта с другим объектом\n",
    "    def __lt__(self, other):\n",
    "        return self.start_distance < other.start_distance\n",
    "\n",
    "    # Функция, срабатывающая при использовании объекта как строки\n",
    "    def __str__(self):\n",
    "        return '\\n'.join((N*'{:3}').format(*[i%(N*N) for i in self.position[i:]]) \n",
    "for i in range(0, N*N, N))\n",
    "\n",
    "SOLVED = (1, 2, 3, 4, 5, 6, 7, 8, 9, 10, 11, 12, 13, 14, 15, 0)\n",
    "start = [1, 2, 3, 4, 5, 6, 7, 8, 13, 9, 11, 12, 10, 14, 15, 0]\n",
    "\n",
    "# Проверяем, можно ли в данной расстановке найти решение. Если нет, то выводим предупреждающее сообщение\n",
    "if parity(start) == 0:\n",
    "    print('Задачу решить нельзя')\n",
    "else:\n",
    "    start = tuple(start)\n",
    "\n",
    "    p = Position(start, 0)\n",
    "\n",
    "    print(p)\n",
    "    print()\n",
    "\n",
    "    # Кладем в очередь с приоритетом первоначальную позицию\n",
    "    candidates = PriorityQueue()\n",
    "    candidates.put(p)\n",
    "\n",
    "    # Кортеж посещенных нами позиций\n",
    "    visited = set([p])\n",
    "\n",
    "    came_from = {p.position: None}\n",
    "    \n",
    "    while p.position != SOLVED:\n",
    "        # Извлекаем из очереди позицию с наименьшим приоритетом\n",
    "        p = candidates.get()\n",
    "        # Кладем в очередь все соседние позиции. Повторяем не вытащим конечную позицию из очереди\n",
    "        for k in moves(p.position):\n",
    "            if k not in visited:\n",
    "                candidates.put(Position(k, p.start_distance + 1))\n",
    "                came_from[k] = p\n",
    "                visited.add(k)\n",
    "\n",
    "    # Последовательное решение пятнашек (путь)\n",
    "    path = []\n",
    "    # Сохраняем конечную позицию\n",
    "    prev = p\n",
    "    # Идем в обратном порядке и запоминаем очередность хода в path\n",
    "    while p.position != start:\n",
    "        # Запоминаем откуда ход\n",
    "        p = came_from[p.position]\n",
    "        number = p.position[prev.position.index(0)]\n",
    "        path.append(number)\n",
    "        prev = p\n",
    "    path.reverse()\n",
    "\n",
    "    print(path)"
   ]
  },
  {
   "cell_type": "markdown",
   "metadata": {},
   "source": [
    "### Вывод:\n",
    "В ходе данной лабораторной работы я научилась использовать алгоритмы Кнута-Морриса-Пратта и упрощенный Бойера-Мура для корректного поиска нужно нам подстроки в строках текста."
   ]
  },
  {
   "cell_type": "code",
   "execution_count": null,
   "metadata": {},
   "outputs": [],
   "source": []
  }
 ],
 "metadata": {
  "kernelspec": {
   "display_name": "Python 3",
   "language": "python",
   "name": "python3"
  },
  "language_info": {
   "codemirror_mode": {
    "name": "ipython",
    "version": 3
   },
   "file_extension": ".py",
   "mimetype": "text/x-python",
   "name": "python",
   "nbconvert_exporter": "python",
   "pygments_lexer": "ipython3",
   "version": "3.8.5"
  }
 },
 "nbformat": 4,
 "nbformat_minor": 4
}
