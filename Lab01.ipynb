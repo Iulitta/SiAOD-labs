{
 "cells": [
  {
   "cell_type": "markdown",
   "metadata": {},
   "source": [
    "# Лабораторная работа 1. Методы сортировки.\n",
    "    Выполнила: Катанаева Иулитта\n",
    "    Группа: БВТ1903\n",
    "    Вариант: 3"
   ]
  },
  {
   "cell_type": "markdown",
   "metadata": {},
   "source": [
    "### Задание.\n",
    "Реализовать метод сортировки обменом для строк числовой матрицы в соответствии с заданием. Добавить реализацию быстрой сортировки (quicksort). Оценить время работы каждого алгоритма сортировки и сравнить его со временем стандартной функции сортировки, используемой в Python."
   ]
  },
  {
   "cell_type": "code",
   "execution_count": 3,
   "metadata": {},
   "outputs": [],
   "source": [
    "# Импортирование нужных библиотек\n",
    "import numpy as np\n",
    "import time\n",
    "import random"
   ]
  },
  {
   "cell_type": "code",
   "execution_count": 4,
   "metadata": {},
   "outputs": [
    {
     "name": "stdout",
     "output_type": "stream",
     "text": [
      "[[-172. -796. -776. ...  436.  169.  759.]\n",
      " [ 763.  673.   54. ... -364.  556.  326.]\n",
      " [ 341. -853.  800. ... -440.  957.  291.]\n",
      " ...\n",
      " [ 592. -374. -210. ... -557. -451.  914.]\n",
      " [-995. -603. -151. ... -874.  820.  596.]\n",
      " [-735.  357.  539. ... -509.  -31. -336.]]\n"
     ]
    }
   ],
   "source": [
    "# Реализация матрицы с помощью двумерного массива NumPy\n",
    "SIZE = 500\n",
    "matrix = np.zeros((SIZE, SIZE))\n",
    "\n",
    "# Генерация матрицы случайных чисел\n",
    "for i in range (0, SIZE):\n",
    "    for j in range (0, SIZE):\n",
    "        matrix[i][j] = random.randrange(-1000, 1000)\n",
    "\n",
    "# Вывод сгенерированной матрицы\n",
    "print(matrix)"
   ]
  },
  {
   "cell_type": "code",
   "execution_count": 5,
   "metadata": {},
   "outputs": [],
   "source": [
    "# Функция сортировки обменом (пузырьковая сортировка)\n",
    "def bubblesort(row):\n",
    "    i = row.size - 1\n",
    "    while (i > 0):\n",
    "        j = 0\n",
    "        while (j < i):\n",
    "            if (row[j] > row[j + 1]):\n",
    "                temp = row[j]\n",
    "                row[j] = row[j + 1]\n",
    "                row[j + 1] = temp\n",
    "            j = j + 1\n",
    "        i = i - 1"
   ]
  },
  {
   "cell_type": "code",
   "execution_count": 6,
   "metadata": {},
   "outputs": [],
   "source": [
    "# Функция возвращает индекс опорного элемента\n",
    "def partition(row, low, high):\n",
    "    x = row[high]\n",
    "    i = low - 1\n",
    "    j = low\n",
    "    tmp = 0\n",
    "    while j < high:\n",
    "        if row[j] <= x:\n",
    "            i = i + 1\n",
    "            tmp = row[i]\n",
    "            row[i] = row[j]\n",
    "            row[j] = tmp\n",
    "        j = j + 1\n",
    "    tmp = row[high]\n",
    "    row[high] = row[i + 1]\n",
    "    row[i + 1] = tmp\n",
    "    return i + 1 \n",
    "\n",
    "# Функция быстрой сортировки\n",
    "def quicksort(row, low, high):\n",
    "    if low < high:\n",
    "        p = partition(row, low, high)\n",
    "        quicksort(row, low, p - 1)\n",
    "        quicksort(row, p + 1, high)"
   ]
  },
  {
   "cell_type": "code",
   "execution_count": 7,
   "metadata": {},
   "outputs": [],
   "source": [
    "# Функция, формирующая отсортированную матрицу\n",
    "def using_sort(matrix, sort_type = 'none'):\n",
    "    sort_matrix = np.zeros(matrix.shape)\n",
    "    atime = 0;\n",
    "    \n",
    "    # Если выбрана сортировка обменом\n",
    "    if sort_type == 'bubble':\n",
    "        sort_matrix = matrix.copy()\n",
    "        t1 = time.process_time()\n",
    "        for i in range (0, len(matrix)):\n",
    "            bubblesort(sort_matrix[i,:])\n",
    "        t2 = time.process_time()\n",
    "        atime = t2 - t1\n",
    "    \n",
    "    # Если выбрана быстрая сортировка\n",
    "    elif sort_type == 'quick':\n",
    "        sort_matrix = matrix.copy()\n",
    "        t1 = time.process_time()\n",
    "        for i in range (0, len(matrix)):\n",
    "            quicksort(sort_matrix[i,:], 0, sort_matrix.shape[1] - 1)\n",
    "        t2 = time.process_time()\n",
    "        atime = t2 - t1\n",
    "    \n",
    "    # В противном случае выбирается стандартная функция сортировки NumPy\n",
    "    else:\n",
    "        t1 = time.process_time()\n",
    "        for i in range (0, len(matrix)):\n",
    "            sort_matrix[i] = np.sort(matrix[i,:])\n",
    "        t2 = time.process_time()\n",
    "        atime = t2 - t1\n",
    "\n",
    "    # Вывод результатов на экран и их возвращение функцией\n",
    "    print('Время выполнения сортировки (в секундах): ', atime)\n",
    "    print('Результат:\\n', sort_matrix, \"\\n\")\n",
    "    return sort_matrix"
   ]
  },
  {
   "cell_type": "code",
   "execution_count": 8,
   "metadata": {},
   "outputs": [
    {
     "name": "stdout",
     "output_type": "stream",
     "text": [
      "Сортировка обменом\n",
      "Время выполнения сортировки (в секундах):  104.390625\n",
      "Результат:\n",
      " [[ -996.  -993.  -991. ...   993.   993.   996.]\n",
      " [ -997.  -995.  -992. ...   984.   988.   990.]\n",
      " [ -992.  -991.  -991. ...   993.   997.   997.]\n",
      " ...\n",
      " [ -998.  -997.  -996. ...   998.   998.   999.]\n",
      " [ -995.  -994.  -990. ...   993.   994.   999.]\n",
      " [-1000. -1000.  -999. ...   994.   996.   998.]] \n",
      "\n",
      "Быстрая сортировка\n",
      "Время выполнения сортировки (в секундах):  4.1875\n",
      "Результат:\n",
      " [[ -996.  -993.  -991. ...   993.   993.   996.]\n",
      " [ -997.  -995.  -992. ...   984.   988.   990.]\n",
      " [ -992.  -991.  -991. ...   993.   997.   997.]\n",
      " ...\n",
      " [ -998.  -997.  -996. ...   998.   998.   999.]\n",
      " [ -995.  -994.  -990. ...   993.   994.   999.]\n",
      " [-1000. -1000.  -999. ...   994.   996.   998.]] \n",
      "\n",
      "Стандартная функция сортировки NumPy\n",
      "Время выполнения сортировки (в секундах):  0.046875\n",
      "Результат:\n",
      " [[ -996.  -993.  -991. ...   993.   993.   996.]\n",
      " [ -997.  -995.  -992. ...   984.   988.   990.]\n",
      " [ -992.  -991.  -991. ...   993.   997.   997.]\n",
      " ...\n",
      " [ -998.  -997.  -996. ...   998.   998.   999.]\n",
      " [ -995.  -994.  -990. ...   993.   994.   999.]\n",
      " [-1000. -1000.  -999. ...   994.   996.   998.]] \n",
      "\n"
     ]
    }
   ],
   "source": [
    "# Вызов каждого метода сортировки с выводом времени выполнения и отсортированной матрицы\n",
    "\n",
    "# Сортировка обменом\n",
    "print('Сортировка обменом')\n",
    "a = using_sort(matrix, 'bubble')\n",
    "\n",
    "# Быстрая сортировка\n",
    "print('Быстрая сортировка')\n",
    "a = using_sort(matrix, 'quick')\n",
    "\n",
    "# Стандартная функция сортировки\n",
    "print('Стандартная функция сортировки NumPy')\n",
    "a = using_sort(matrix)"
   ]
  },
  {
   "cell_type": "code",
   "execution_count": null,
   "metadata": {},
   "outputs": [],
   "source": []
  }
 ],
 "metadata": {
  "kernelspec": {
   "display_name": "Python 3",
   "language": "python",
   "name": "python3"
  },
  "language_info": {
   "codemirror_mode": {
    "name": "ipython",
    "version": 3
   },
   "file_extension": ".py",
   "mimetype": "text/x-python",
   "name": "python",
   "nbconvert_exporter": "python",
   "pygments_lexer": "ipython3",
   "version": "3.8.5"
  }
 },
 "nbformat": 4,
 "nbformat_minor": 4
}
