{
 "cells": [
  {
   "cell_type": "markdown",
   "metadata": {},
   "source": [
    "### Задача про баскетболистов.\n",
    "Если у игрока три параметра выше ожидаемого диапазона, причём среди них обязательно есть рост или размах рук, то игрок считается игроком 0 категории. \n",
    "\n",
    "Игрока рекомендуется выбирать в первом раунде драфта (категория 1), если верно одно из двух следующих утверждений:\n",
    "- у игрока два параметра выше ожидаемого диапазона и ещё один - как минимум в верхней половине ожидаемого диапазона;\n",
    "- у игрока все параметры как минимум в ожидаемом диапазоне и не менее трёх - как минимум в верхней половине диапазона.\n",
    "\n",
    "Игрока рекомендуется выбирать во втором раунде драфта (категория 2), если верно одно из следующих утверждений:\n",
    "- у игрока один параметр выше ожидаемого диапазона и ещё один - как минимум в верхней половине ожидаемого диапазона;\n",
    "- у игрока три параметра как минимум в верхней половине ожидаемого диапазона.\n",
    "\n",
    "В остальных случаях тратить выбор драфта на этого игрока не рекомендуется (категория 3)."
   ]
  },
  {
   "cell_type": "code",
   "execution_count": 3,
   "metadata": {},
   "outputs": [
    {
     "name": "stdout",
     "output_type": "stream",
     "text": [
      "3\n",
      "230\n",
      "190\n",
      "16\n",
      "7\n",
      "9\n",
      "205\n",
      "225\n",
      "15\n",
      "5\n",
      "2\n",
      "210\n",
      "210\n",
      "30\n",
      "9\n",
      "9\n",
      "[[230, 190, 16, 7, 9], [205, 225, 15, 5, 2], [210, 210, 30, 9, 9]]\n",
      "0\n",
      "2\n",
      "1\n"
     ]
    }
   ],
   "source": [
    "#ввод кол-ва игроков\n",
    "players = int(input())\n",
    "characters = [[0]*5 for i in range(players)]\n",
    "\n",
    "#массив для ввода хар-к игроков\n",
    "for i in range(players):\n",
    "    for j in range(5):\n",
    "        characters[i][j] = int(input())\n",
    "\n",
    "#изначальные параметры для игроков\n",
    "pok_min = [190, 200, 10, 2, 3]\n",
    "pok_middle = [210, 225, 15, 4, 5]\n",
    "pok_max = [220, 250, 20, 6, 7]\n",
    "print(characters)\n",
    "\n",
    "#проверка категории\n",
    "for i in range(players):\n",
    "    great = 0\n",
    "    good = 0\n",
    "    norm = 0\n",
    "    for j in range(5):\n",
    "        if characters[i][j] > pok_max[j]:\n",
    "            great += 1\n",
    "        if pok_max[j] >= characters[i][j] >= pok_middle[j]:\n",
    "            good += 1\n",
    "        if pok_middle[j] > characters[i][j] > pok_min[j]:\n",
    "            norm += 1  \n",
    "#вывод категории игроков\n",
    "    if great >= 3 and (characters[i][0] > pok_max[0] or characters[i][1] > pok_max[0]):\n",
    "        print(0)\n",
    "    elif great >= 2 and good >= 1 or norm == 5 and good >= 3:\n",
    "        print(1)\n",
    "    elif great >= 1 and good >= 1 or good >= 3:\n",
    "        print(2)\n",
    "    else:\n",
    "        print(3)"
   ]
  },
  {
   "cell_type": "code",
   "execution_count": null,
   "metadata": {},
   "outputs": [],
   "source": []
  }
 ],
 "metadata": {
  "kernelspec": {
   "display_name": "Python 3",
   "language": "python",
   "name": "python3"
  },
  "language_info": {
   "codemirror_mode": {
    "name": "ipython",
    "version": 3
   },
   "file_extension": ".py",
   "mimetype": "text/x-python",
   "name": "python",
   "nbconvert_exporter": "python",
   "pygments_lexer": "ipython3",
   "version": "3.8.5"
  }
 },
 "nbformat": 4,
 "nbformat_minor": 4
}
