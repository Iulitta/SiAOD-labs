{
 "cells": [
  {
   "cell_type": "markdown",
   "metadata": {},
   "source": [
    "# Лабораторная работа 1. Методы сортировки.\n",
    "    Выполнила: Катанаева Иулитта\n",
    "    Группа: БВТ1903\n",
    "    Вариант: 3"
   ]
  },
  {
   "cell_type": "markdown",
   "metadata": {},
   "source": [
    "### Задание.\n",
    "Реализовать метод сортировки обменом для строк числовой матрицы в соответствии с заданием. Добавить реализацию быстрой сортировки (quicksort). Оценить время работы каждого алгоритма сортировки и сравнить его со временем стандартной функции сортировки, используемой в Python."
   ]
  },
  {
   "cell_type": "code",
   "execution_count": 8,
   "metadata": {},
   "outputs": [],
   "source": [
    "# Импортирование нужных библиотек\n",
    "import numpy as np\n",
    "import time\n",
    "import random"
   ]
  },
  {
   "cell_type": "code",
   "execution_count": 10,
   "metadata": {},
   "outputs": [
    {
     "name": "stdout",
     "output_type": "stream",
     "text": [
      "[[ 426. -195. -604. ... -956.  859. -490.]\n",
      " [-338.  527.  925. ...  458.  917. -461.]\n",
      " [ 592.  182.  763. ...  378.  -92.  199.]\n",
      " ...\n",
      " [-643.  613.  349. ...  300. -587.  762.]\n",
      " [  -5.  322.  -20. ... -860.  803. -431.]\n",
      " [-810. -824. -871. ...  393.  451.  267.]]\n"
     ]
    }
   ],
   "source": [
    "# Реализация матрицы с помощью двумерного массива NumPy\n",
    "SIZE = 500\n",
    "matrix = np.zeros((SIZE, SIZE))\n",
    "\n",
    "# Генерация матрицы случайных чисел\n",
    "for i in range (0, SIZE):\n",
    "    for j in range (0, SIZE):\n",
    "        matrix[i][j] = random.randrange(-1000, 1000)\n",
    "\n",
    "# Вывод сгенерированной матрицы\n",
    "print(matrix)"
   ]
  },
  {
   "cell_type": "code",
   "execution_count": 11,
   "metadata": {},
   "outputs": [],
   "source": [
    "# Функция сортировки обменом (пузырьковая сортировка)\n",
    "def bubblesort(row):\n",
    "    i = row.size - 1\n",
    "    while (i > 0):\n",
    "        j = 0\n",
    "        while (j < i):\n",
    "            if (row[j] > row[j + 1]):\n",
    "                temp = row[j]\n",
    "                row[j] = row[j + 1]\n",
    "                row[j + 1] = temp\n",
    "            j = j + 1\n",
    "        i = i - 1"
   ]
  },
  {
   "cell_type": "code",
   "execution_count": 12,
   "metadata": {},
   "outputs": [],
   "source": [
    "# Функция возвращает индекс опорного элемента\n",
    "def partition(row, low, high):\n",
    "    x = row[high]\n",
    "    i = low - 1\n",
    "    j = low\n",
    "    tmp = 0\n",
    "    while j < high:\n",
    "        if row[j] <= x:\n",
    "            i = i + 1\n",
    "            tmp = row[i]\n",
    "            row[i] = row[j]\n",
    "            row[j] = tmp\n",
    "        j = j + 1\n",
    "    tmp = row[high]\n",
    "    row[high] = row[i + 1]\n",
    "    row[i + 1] = tmp\n",
    "    return i + 1 \n",
    "\n",
    "# Функция быстрой сортировки\n",
    "def quicksort(row, low, high):\n",
    "    if low < high:\n",
    "        p = partition(row, low, high)\n",
    "        quicksort(row, low, p - 1)\n",
    "        quicksort(row, p + 1, high)"
   ]
  },
  {
   "cell_type": "code",
   "execution_count": 13,
   "metadata": {},
   "outputs": [],
   "source": [
    "# Функция, формирующая отсортированную матрицу\n",
    "def using_sort(matrix, sort_type = 'none'):\n",
    "    sort_matrix = np.zeros(matrix.shape)\n",
    "    atime = 0;\n",
    "    \n",
    "    # Если выбрана сортировка обменом\n",
    "    if sort_type == 'bubble':\n",
    "        sort_matrix = matrix.copy()\n",
    "        t1 = time.process_time()\n",
    "        for i in range (0, len(matrix)):\n",
    "            bubblesort(sort_matrix[i,:])\n",
    "        t2 = time.process_time()\n",
    "        atime = t2 - t1\n",
    "    \n",
    "    # Если выбрана быстрая сортировка\n",
    "    elif sort_type == 'quick':\n",
    "        sort_matrix = matrix.copy()\n",
    "        t1 = time.process_time()\n",
    "        for i in range (0, len(matrix)):\n",
    "            quicksort(sort_matrix[i,:], 0, sort_matrix.shape[1] - 1)\n",
    "        t2 = time.process_time()\n",
    "        atime = t2 - t1\n",
    "    \n",
    "    # В противном случае выбирается стандартная функция сортировки NumPy\n",
    "    else:\n",
    "        t1 = time.process_time()\n",
    "        for i in range (0, len(matrix)):\n",
    "            sort_matrix[i] = np.sort(matrix[i,:])\n",
    "        t2 = time.process_time()\n",
    "        atime = t2 - t1\n",
    "\n",
    "    # Вывод результатов на экран и их возвращение функцией\n",
    "    print('Время выполнения сортировки (в секундах): ', atime)\n",
    "    print('Результат:\\n', sort_matrix, \"\\n\")\n",
    "    return sort_matrix"
   ]
  },
  {
   "cell_type": "code",
   "execution_count": 14,
   "metadata": {},
   "outputs": [
    {
     "name": "stdout",
     "output_type": "stream",
     "text": [
      "Сортировка обменом\n",
      "Время выполнения сортировки (в секундах):  122.53125\n",
      "Результат:\n",
      " [[-994. -994. -987. ...  990.  995.  999.]\n",
      " [-999. -995. -991. ...  972.  987.  988.]\n",
      " [-996. -993. -987. ...  984.  987.  990.]\n",
      " ...\n",
      " [-991. -988. -983. ...  993.  994.  996.]\n",
      " [-997. -991. -982. ...  991.  993.  999.]\n",
      " [-996. -993. -982. ...  985.  992.  994.]] \n",
      "\n",
      "Быстрая сортировка\n",
      "Время выполнения сортировки (в секундах):  3.625\n",
      "Результат:\n",
      " [[-994. -994. -987. ...  990.  995.  999.]\n",
      " [-999. -995. -991. ...  972.  987.  988.]\n",
      " [-996. -993. -987. ...  984.  987.  990.]\n",
      " ...\n",
      " [-991. -988. -983. ...  993.  994.  996.]\n",
      " [-997. -991. -982. ...  991.  993.  999.]\n",
      " [-996. -993. -982. ...  985.  992.  994.]] \n",
      "\n",
      "Стандартная функция сортировки NumPy\n",
      "Время выполнения сортировки (в секундах):  0.03125\n",
      "Результат:\n",
      " [[-994. -994. -987. ...  990.  995.  999.]\n",
      " [-999. -995. -991. ...  972.  987.  988.]\n",
      " [-996. -993. -987. ...  984.  987.  990.]\n",
      " ...\n",
      " [-991. -988. -983. ...  993.  994.  996.]\n",
      " [-997. -991. -982. ...  991.  993.  999.]\n",
      " [-996. -993. -982. ...  985.  992.  994.]] \n",
      "\n"
     ]
    }
   ],
   "source": [
    "# Вызов каждого метода сортировки с выводом времени выполнения и отсортированной матрицы\n",
    "\n",
    "# Сортировка обменом\n",
    "print('Сортировка обменом')\n",
    "a = using_sort(matrix, 'bubble')\n",
    "\n",
    "# Быстрая сортировка\n",
    "print('Быстрая сортировка')\n",
    "a = using_sort(matrix, 'quick')\n",
    "\n",
    "# Стандартная функция сортировки\n",
    "print('Стандартная функция сортировки NumPy')\n",
    "a = using_sort(matrix)"
   ]
  },
  {
   "cell_type": "markdown",
   "metadata": {},
   "source": [
    "### Вывод:\n",
    "В ходе данной лабораторной работы я научилась реализовывать разные виды сортировок и сравнила время их работы для выбора наиболее эффективной."
   ]
  }
 ],
 "metadata": {
  "kernelspec": {
   "display_name": "Python 3",
   "language": "python",
   "name": "python3"
  },
  "language_info": {
   "codemirror_mode": {
    "name": "ipython",
    "version": 3
   },
   "file_extension": ".py",
   "mimetype": "text/x-python",
   "name": "python",
   "nbconvert_exporter": "python",
   "pygments_lexer": "ipython3",
   "version": "3.8.5"
  }
 },
 "nbformat": 4,
 "nbformat_minor": 4
}
